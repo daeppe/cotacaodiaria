{
 "cells": [
  {
   "cell_type": "code",
   "execution_count": 2,
   "metadata": {},
   "outputs": [
    {
     "name": "stdout",
     "output_type": "stream",
     "text": [
      "Diretório de Trabalho Atual: /home/epichin/Documents/Projetos/Python/cotacaodiaria\n",
      "Variáveis de Ambiente: environ({'CHROME_DESKTOP': 'code-url-handler.desktop', 'COLORTERM': 'truecolor', 'DBUS_SESSION_BUS_ADDRESS': 'unix:path=/run/user/1000/bus', 'DEFAULTS_PATH': '/usr/share/gconf/ubuntu.default.path', 'DESKTOP_SESSION': 'ubuntu', 'DISPLAY': ':1', 'DOTNET_BUNDLE_EXTRACT_BASE_DIR': '/home/epichin/.cache/dotnet_bundle_extract', 'ELECTRON_NO_ATTACH_CONSOLE': '1', 'GDK_BACKEND': 'x11', 'GDK_PIXBUF_MODULEDIR': '/snap/code/149/usr/lib/x86_64-linux-gnu/gdk-pixbuf-2.0/2.10.0/loaders', 'GDK_PIXBUF_MODULE_FILE': '/home/epichin/snap/code/common/.cache/gdk-pixbuf-loaders.cache', 'GDMSESSION': 'ubuntu', 'GIO_MODULE_DIR': '/home/epichin/snap/code/common/.cache/gio-modules', 'GNOME_DESKTOP_SESSION_ID': 'this-is-deprecated', 'GNOME_SHELL_SESSION_MODE': 'ubuntu', 'GNOME_TERMINAL_SCREEN': '/org/gnome/Terminal/screen/200c8d95_c0f1_4f5a_94c3_ee7f12ed4b21', 'GNOME_TERMINAL_SERVICE': ':1.182', 'GPG_AGENT_INFO': '/run/user/1000/gnupg/S.gpg-agent:0:1', 'GSETTINGS_SCHEMA_DIR': '/home/epichin/snap/code/149/.local/share/glib-2.0/schemas', 'GTK3_MODULES': 'xapp-gtk3-module', 'GTK_EXE_PREFIX': '/snap/code/149/usr', 'GTK_IM_MODULE': 'ibus', 'GTK_IM_MODULE_FILE': '/home/epichin/snap/code/common/.cache/immodules/immodules.cache', 'GTK_MODULES': 'gail:atk-bridge', 'GTK_PATH': '/snap/code/149/usr/lib/x86_64-linux-gnu/gtk-3.0', 'HOME': '/home/epichin', 'LANG': 'en_US.UTF-8', 'LC_ADDRESS': 'pt_BR.UTF-8', 'LC_CTYPE': 'pt_BR.UTF-8', 'LC_IDENTIFICATION': 'pt_BR.UTF-8', 'LC_MEASUREMENT': 'pt_BR.UTF-8', 'LC_MONETARY': 'pt_BR.UTF-8', 'LC_NAME': 'pt_BR.UTF-8', 'LC_NUMERIC': 'pt_BR.UTF-8', 'LC_PAPER': 'pt_BR.UTF-8', 'LC_TELEPHONE': 'pt_BR.UTF-8', 'LC_TIME': 'pt_BR.UTF-8', 'LESS': '-R', 'LOCPATH': '/snap/code/149/usr/lib/locale', 'LOGNAME': 'epichin', 'LSCOLORS': 'Gxfxcxdxbxegedabagacad', 'LS_COLORS': 'rs=0:di=01;34:ln=01;36:mh=00:pi=40;33:so=01;35:do=01;35:bd=40;33;01:cd=40;33;01:or=40;31;01:mi=00:su=37;41:sg=30;43:ca=30;41:tw=30;42:ow=34;42:st=37;44:ex=01;32:*.tar=01;31:*.tgz=01;31:*.arc=01;31:*.arj=01;31:*.taz=01;31:*.lha=01;31:*.lz4=01;31:*.lzh=01;31:*.lzma=01;31:*.tlz=01;31:*.txz=01;31:*.tzo=01;31:*.t7z=01;31:*.zip=01;31:*.z=01;31:*.dz=01;31:*.gz=01;31:*.lrz=01;31:*.lz=01;31:*.lzo=01;31:*.xz=01;31:*.zst=01;31:*.tzst=01;31:*.bz2=01;31:*.bz=01;31:*.tbz=01;31:*.tbz2=01;31:*.tz=01;31:*.deb=01;31:*.rpm=01;31:*.jar=01;31:*.war=01;31:*.ear=01;31:*.sar=01;31:*.rar=01;31:*.alz=01;31:*.ace=01;31:*.zoo=01;31:*.cpio=01;31:*.7z=01;31:*.rz=01;31:*.cab=01;31:*.wim=01;31:*.swm=01;31:*.dwm=01;31:*.esd=01;31:*.jpg=01;35:*.jpeg=01;35:*.mjpg=01;35:*.mjpeg=01;35:*.gif=01;35:*.bmp=01;35:*.pbm=01;35:*.pgm=01;35:*.ppm=01;35:*.tga=01;35:*.xbm=01;35:*.xpm=01;35:*.tif=01;35:*.tiff=01;35:*.png=01;35:*.svg=01;35:*.svgz=01;35:*.mng=01;35:*.pcx=01;35:*.mov=01;35:*.mpg=01;35:*.mpeg=01;35:*.m2v=01;35:*.mkv=01;35:*.webm=01;35:*.webp=01;35:*.ogm=01;35:*.mp4=01;35:*.m4v=01;35:*.mp4v=01;35:*.vob=01;35:*.qt=01;35:*.nuv=01;35:*.wmv=01;35:*.asf=01;35:*.rm=01;35:*.rmvb=01;35:*.flc=01;35:*.avi=01;35:*.fli=01;35:*.flv=01;35:*.gl=01;35:*.dl=01;35:*.xcf=01;35:*.xwd=01;35:*.yuv=01;35:*.cgm=01;35:*.emf=01;35:*.ogv=01;35:*.ogx=01;35:*.aac=00;36:*.au=00;36:*.flac=00;36:*.m4a=00;36:*.mid=00;36:*.midi=00;36:*.mka=00;36:*.mp3=00;36:*.mpc=00;36:*.ogg=00;36:*.ra=00;36:*.wav=00;36:*.oga=00;36:*.opus=00;36:*.spx=00;36:*.xspf=00;36:', 'MANDATORY_PATH': '/usr/share/gconf/ubuntu.mandatory.path', 'NVM_BIN': '/home/epichin/.nvm/versions/node/v18.16.0/bin', 'NVM_CD_FLAGS': '-q', 'NVM_DIR': '/home/epichin/.nvm', 'NVM_INC': '/home/epichin/.nvm/versions/node/v18.16.0/include/node', 'OLDPWD': '/home/epichin', 'ORIGINAL_XDG_CURRENT_DESKTOP': 'ubuntu:GNOME', 'PAGER': 'cat', 'PATH': '/home/epichin/Documents/Projetos/Python/cotacaodiaria/venv/bin:/home/epichin/.nvm/versions/node/v18.16.0/bin:/home/epichin/.pyenv/shims:/home/epichin/.pyenv/bin:/usr/local/sbin:/usr/local/bin:/usr/sbin:/usr/bin:/sbin:/bin:/usr/games:/usr/local/games:/snap/bin:/snap/bin:/home/epichin/.dotnet/tools', 'PWD': '/home/epichin/Documents/Projetos/Python/cotacaodiaria', 'PYENV_ROOT': '/home/epichin/.pyenv', 'PYENV_SHELL': 'zsh', 'QT_ACCESSIBILITY': '1', 'QT_IM_MODULE': 'ibus', 'SESSION_MANAGER': 'local/epichin-Vostro-5402:@/tmp/.ICE-unix/2091,unix/epichin-Vostro-5402:/tmp/.ICE-unix/2091', 'SHELL': '/usr/bin/zsh', 'SHLVL': '1', 'SNAP': '/snap/code/149', 'SNAP_ARCH': 'amd64', 'SNAP_COMMON': '/var/snap/code/common', 'SNAP_CONTEXT': 'mjTHM5KkaedPzzAUzmU13Y2SC5Li08SOpaplOI0SxpO2v9iu4iiy', 'SNAP_COOKIE': 'mjTHM5KkaedPzzAUzmU13Y2SC5Li08SOpaplOI0SxpO2v9iu4iiy', 'SNAP_DATA': '/var/snap/code/149', 'SNAP_EUID': '1000', 'SNAP_INSTANCE_NAME': 'code', 'SNAP_LAUNCHER_ARCH_TRIPLET': 'x86_64-linux-gnu', 'SNAP_LIBRARY_PATH': '/var/lib/snapd/lib/gl:/var/lib/snapd/lib/gl32:/var/lib/snapd/void', 'SNAP_NAME': 'code', 'SNAP_REAL_HOME': '/home/epichin', 'SNAP_REVISION': '149', 'SNAP_UID': '1000', 'SNAP_USER_COMMON': '/home/epichin/snap/code/common', 'SNAP_USER_DATA': '/home/epichin/snap/code/149', 'SNAP_VERSION': '8b377503', 'SPACESHIP_ROOT': '/home/epichin/.oh-my-zsh/custom/themes/spaceship-prompt', 'SPACESHIP_VERSION': '4.15.0', 'SSH_AGENT_LAUNCHER': 'gnome-keyring', 'SSH_AUTH_SOCK': '/run/user/1000/keyring/ssh', 'SYSTEMD_EXEC_PID': '2335', 'TERM': 'xterm-color', 'USER': 'epichin', 'USERNAME': 'epichin', 'VSCODE_AMD_ENTRYPOINT': 'vs/workbench/api/node/extensionHostProcess', 'VSCODE_CLI': '1', 'VSCODE_CODE_CACHE_PATH': '/home/epichin/.config/Code/CachedData/8b3775030ed1a69b13e4f4c628c612102e30a681', 'VSCODE_CRASH_REPORTER_PROCESS_TYPE': 'extensionHost', 'VSCODE_CWD': '/home/epichin/Documents/Projetos/Python/cotacaodiaria', 'VSCODE_HANDLES_UNCAUGHT_ERRORS': 'true', 'VSCODE_IPC_HOOK': '/run/user/1000/vscode-2825261d-1.85-main.sock', 'VSCODE_NLS_CONFIG': '{\"locale\":\"en-us\",\"osLocale\":\"en-us\",\"availableLanguages\":{},\"_languagePackSupport\":true}', 'VSCODE_PID': '37226', 'VTE_VERSION': '6800', 'WINDOWPATH': '2', 'XAUTHORITY': '/run/user/1000/gdm/Xauthority', 'XDG_CONFIG_DIRS': '/etc/xdg/xdg-ubuntu:/etc/xdg', 'XDG_CONFIG_DIRS_VSCODE_SNAP_ORIG': '/etc/xdg/xdg-ubuntu:/etc/xdg', 'XDG_CURRENT_DESKTOP': 'Unity', 'XDG_DATA_DIRS': '/home/epichin/snap/code/149/.local/share:/home/epichin/snap/code/149:/snap/code/149/usr/share:/usr/share/ubuntu:/usr/share/gnome:/usr/local/share/:/usr/share/:/var/lib/snapd/desktop', 'XDG_DATA_DIRS_VSCODE_SNAP_ORIG': '/usr/share/ubuntu:/usr/share/gnome:/usr/local/share/:/usr/share/:/var/lib/snapd/desktop', 'XDG_MENU_PREFIX': 'gnome-', 'XDG_RUNTIME_DIR': '/run/user/1000', 'XDG_SESSION_CLASS': 'user', 'XDG_SESSION_DESKTOP': 'ubuntu', 'XDG_SESSION_TYPE': 'x11', 'XMODIFIERS': '@im=ibus', 'ZSH': '/home/epichin/.oh-my-zsh', 'ELECTRON_RUN_AS_NODE': '1', 'APPLICATION_INSIGHTS_NO_DIAGNOSTIC_CHANNEL': '1', 'PYTHONUNBUFFERED': '1', 'EMAIL_RECIPIENT': '20112li036@gmail.com, d.pena@hotmail.com, lanpestore@gmail.com', 'SENDER_GMAIL': '20112li036@gmail.com', 'VIRTUAL_ENV': '/home/epichin/Documents/Projetos/Python/cotacaodiaria/venv', 'PASS_GOOGLE_AUTHENTICATION': 'mpbsoqjlluvpqpla', 'PYTHONIOENCODING': 'utf-8', 'VIRTUAL_ENV_PROMPT': '(venv) ', 'PS1': '(venv) ', '_': '/home/epichin/Documents/Projetos/Python/cotacaodiaria/venv/bin/python', 'PYDEVD_IPYTHON_COMPATIBLE_DEBUGGING': '1', 'PYDEVD_USE_FRAME_EVAL': 'NO', 'CLICOLOR': '1', 'FORCE_COLOR': '1', 'CLICOLOR_FORCE': '1', 'GIT_PAGER': 'cat', 'MPLBACKEND': 'module://matplotlib_inline.backend_inline'})\n",
      "Cotação feita!\n",
      "Email enviado\n"
     ]
    }
   ],
   "source": [
    "import requests\n",
    "from send_mail import send_mail\n",
    "\n",
    "import os\n",
    "\n",
    "print(\"Diretório de Trabalho Atual:\", os.getcwd())\n",
    "print(\"Variáveis de Ambiente:\", os.environ)\n",
    "\n",
    "\n",
    "request = requests.get('https://economia.awesomeapi.com.br/last/USD-BRL,EUR-BRL,BTC-BRL')\n",
    "\n",
    "request_dic = request.json()\n",
    "dolar_price = float(request_dic[\"USDBRL\"][\"bid\"])\n",
    "euro_price = float(request_dic[\"EURBRL\"][\"bid\"])\n",
    "btc_price = float(request_dic[\"BTCBRL\"][\"bid\"])\n",
    "\n",
    "print('Cotação feita!')\n",
    "\n",
    "send_mail(dolar_price, euro_price, btc_price)\n"
   ]
  }
 ],
 "metadata": {
  "kernelspec": {
   "display_name": "venv",
   "language": "python",
   "name": "python3"
  },
  "language_info": {
   "codemirror_mode": {
    "name": "ipython",
    "version": 3
   },
   "file_extension": ".py",
   "mimetype": "text/x-python",
   "name": "python",
   "nbconvert_exporter": "python",
   "pygments_lexer": "ipython3",
   "version": "3.11.0"
  }
 },
 "nbformat": 4,
 "nbformat_minor": 2
}
