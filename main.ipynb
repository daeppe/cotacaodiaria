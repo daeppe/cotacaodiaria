{
 "cells": [
  {
   "cell_type": "code",
   "execution_count": 2,
   "metadata": {},
   "outputs": [
    {
     "name": "stdout",
     "output_type": "stream",
     "text": [
      "Cotação feita!\n",
      "Email enviado\n"
     ]
    }
   ],
   "source": [
    "import requests\n",
    "from send_mail import send_mail\n",
    "\n",
    "\n",
    "request = requests.get('https://economia.awesomeapi.com.br/last/USD-BRL,EUR-BRL,BTC-BRL')\n",
    "\n",
    "request_dic = request.json()\n",
    "dolar_price = float(request_dic[\"USDBRL\"][\"bid\"])\n",
    "euro_price = float(request_dic[\"EURBRL\"][\"bid\"])\n",
    "btc_price = float(request_dic[\"BTCBRL\"][\"bid\"])\n",
    "\n",
    "print('Cotação feita!')\n",
    "\n",
    "send_mail(dolar_price, euro_price, btc_price)\n"
   ]
  }
 ],
 "metadata": {
  "kernelspec": {
   "display_name": "venv",
   "language": "python",
   "name": "python3"
  },
  "language_info": {
   "codemirror_mode": {
    "name": "ipython",
    "version": 3
   },
   "file_extension": ".py",
   "mimetype": "text/x-python",
   "name": "python",
   "nbconvert_exporter": "python",
   "pygments_lexer": "ipython3",
   "version": "3.11.0"
  }
 },
 "nbformat": 4,
 "nbformat_minor": 2
}
